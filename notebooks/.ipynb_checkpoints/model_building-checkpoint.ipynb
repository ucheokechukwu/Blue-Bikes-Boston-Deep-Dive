{
 "cells": [
  {
   "cell_type": "code",
   "execution_count": 11,
   "id": "c888ce7a",
   "metadata": {},
   "outputs": [],
   "source": [
    "import pandas as pd\n",
    "import numpy as np\n",
    "import matplotlib.pyplot as plt\n",
    "import statsmodels.api as sm\n",
    "import seaborn as sns\n",
    "import plotly.graph_objs as go\n",
    "# a hack to print all my cell outputs / change 'all' to 'last_expr' to revert to default\n",
    "from IPython.core.interactiveshell import InteractiveShell\n",
    "InteractiveShell.ast_node_interactivity = \"all\""
   ]
  },
  {
   "cell_type": "markdown",
   "id": "5b8b2675",
   "metadata": {},
   "source": [
    "## Building the model\n",
    "\n",
    "    1. Data cleaning - removing irrelevant columns and renaming columns for easier understanding.\n",
    "    2. Visualization to detect patterns, identify and resolve outliers.\n",
    "    3. Model building - Forward Selection\n",
    "    4. Analysis of the Results\n",
    "        - comparing to other models from the Forward selection stage\n",
    "        - including Further visualization\n",
    "        - recommendation\n",
    "    \n"
   ]
  },
  {
   "cell_type": "code",
   "execution_count": 2,
   "id": "d578ded7",
   "metadata": {},
   "outputs": [
    {
     "data": {
      "text/html": [
       "<div>\n",
       "<style scoped>\n",
       "    .dataframe tbody tr th:only-of-type {\n",
       "        vertical-align: middle;\n",
       "    }\n",
       "\n",
       "    .dataframe tbody tr th {\n",
       "        vertical-align: top;\n",
       "    }\n",
       "\n",
       "    .dataframe thead th {\n",
       "        text-align: right;\n",
       "    }\n",
       "</style>\n",
       "<table border=\"1\" class=\"dataframe\">\n",
       "  <thead>\n",
       "    <tr style=\"text-align: right;\">\n",
       "      <th></th>\n",
       "      <th>Station Name</th>\n",
       "      <th>Latitude</th>\n",
       "      <th>Longitude</th>\n",
       "      <th>Number of Bikes</th>\n",
       "      <th>Station ID</th>\n",
       "      <th>Number of Restaurants</th>\n",
       "      <th>Number of Rentals</th>\n",
       "      <th>Average Restaurant Rating</th>\n",
       "      <th>Average Rental Rating</th>\n",
       "    </tr>\n",
       "  </thead>\n",
       "  <tbody>\n",
       "    <tr>\n",
       "      <th>0</th>\n",
       "      <td>Orient Heights T Stop - Bennington St at Sarat...</td>\n",
       "      <td>42.386781</td>\n",
       "      <td>-71.006098</td>\n",
       "      <td>19</td>\n",
       "      <td>553ed0300d38108b4f21a6bafa3db70c</td>\n",
       "      <td>39</td>\n",
       "      <td>5</td>\n",
       "      <td>4.090909</td>\n",
       "      <td>2.000000</td>\n",
       "    </tr>\n",
       "    <tr>\n",
       "      <th>1</th>\n",
       "      <td>Maverick Square - Lewis Mall</td>\n",
       "      <td>42.368844</td>\n",
       "      <td>-71.039778</td>\n",
       "      <td>33</td>\n",
       "      <td>93542dcbf21f5411569adb92cd7cc199</td>\n",
       "      <td>60</td>\n",
       "      <td>16</td>\n",
       "      <td>4.035714</td>\n",
       "      <td>2.031250</td>\n",
       "    </tr>\n",
       "    <tr>\n",
       "      <th>2</th>\n",
       "      <td>East Boston Neighborhood Health Center - 20 Ma...</td>\n",
       "      <td>42.369536</td>\n",
       "      <td>-71.039431</td>\n",
       "      <td>16</td>\n",
       "      <td>d9c7ef5dbda4ed944d1bf51fe540acb6</td>\n",
       "      <td>60</td>\n",
       "      <td>16</td>\n",
       "      <td>4.035714</td>\n",
       "      <td>2.031250</td>\n",
       "    </tr>\n",
       "    <tr>\n",
       "      <th>3</th>\n",
       "      <td>Bennington St at Byron St</td>\n",
       "      <td>42.383533</td>\n",
       "      <td>-71.016191</td>\n",
       "      <td>15</td>\n",
       "      <td>0568389e659e679fbe29a5ac12cd49c0</td>\n",
       "      <td>52</td>\n",
       "      <td>7</td>\n",
       "      <td>4.192308</td>\n",
       "      <td>2.285714</td>\n",
       "    </tr>\n",
       "    <tr>\n",
       "      <th>4</th>\n",
       "      <td>Boston East - 126 Border St</td>\n",
       "      <td>42.373312</td>\n",
       "      <td>-71.041020</td>\n",
       "      <td>15</td>\n",
       "      <td>47b79abc28a54d0e4689b1096ceb8466</td>\n",
       "      <td>60</td>\n",
       "      <td>9</td>\n",
       "      <td>4.033333</td>\n",
       "      <td>2.055556</td>\n",
       "    </tr>\n",
       "    <tr>\n",
       "      <th>...</th>\n",
       "      <td>...</td>\n",
       "      <td>...</td>\n",
       "      <td>...</td>\n",
       "      <td>...</td>\n",
       "      <td>...</td>\n",
       "      <td>...</td>\n",
       "      <td>...</td>\n",
       "      <td>...</td>\n",
       "      <td>...</td>\n",
       "    </tr>\n",
       "    <tr>\n",
       "      <th>406</th>\n",
       "      <td>Boylston St at Fairfield St</td>\n",
       "      <td>42.348804</td>\n",
       "      <td>-71.082369</td>\n",
       "      <td>19</td>\n",
       "      <td>3849bdf753a318d6a9b7d7a1cb62c186</td>\n",
       "      <td>63</td>\n",
       "      <td>18</td>\n",
       "      <td>4.058824</td>\n",
       "      <td>2.027778</td>\n",
       "    </tr>\n",
       "    <tr>\n",
       "      <th>407</th>\n",
       "      <td>1200 Beacon St</td>\n",
       "      <td>42.344149</td>\n",
       "      <td>-71.114674</td>\n",
       "      <td>15</td>\n",
       "      <td>a5276fd53136b5c1eeb4d7aa5db405a4</td>\n",
       "      <td>63</td>\n",
       "      <td>8</td>\n",
       "      <td>4.138889</td>\n",
       "      <td>2.000000</td>\n",
       "    </tr>\n",
       "    <tr>\n",
       "      <th>408</th>\n",
       "      <td>Newbury St at Hereford St</td>\n",
       "      <td>42.348717</td>\n",
       "      <td>-71.085954</td>\n",
       "      <td>22</td>\n",
       "      <td>832fc4a60379cdc7824acb0c1dbf5f6c</td>\n",
       "      <td>66</td>\n",
       "      <td>18</td>\n",
       "      <td>4.000000</td>\n",
       "      <td>2.027778</td>\n",
       "    </tr>\n",
       "    <tr>\n",
       "      <th>409</th>\n",
       "      <td>Boylston St at Dartmouth St</td>\n",
       "      <td>42.350193</td>\n",
       "      <td>-71.077442</td>\n",
       "      <td>19</td>\n",
       "      <td>cd299318baee6b2600b5e9f047a558ab</td>\n",
       "      <td>61</td>\n",
       "      <td>18</td>\n",
       "      <td>4.138889</td>\n",
       "      <td>2.111111</td>\n",
       "    </tr>\n",
       "    <tr>\n",
       "      <th>410</th>\n",
       "      <td>Copley Square - Dartmouth St at Boylston St</td>\n",
       "      <td>42.349928</td>\n",
       "      <td>-71.077392</td>\n",
       "      <td>31</td>\n",
       "      <td>9930aaf1ad9f4716ff669b09a5c4684f</td>\n",
       "      <td>61</td>\n",
       "      <td>18</td>\n",
       "      <td>4.166667</td>\n",
       "      <td>2.111111</td>\n",
       "    </tr>\n",
       "  </tbody>\n",
       "</table>\n",
       "<p>411 rows × 9 columns</p>\n",
       "</div>"
      ],
      "text/plain": [
       "                                          Station Name   Latitude  Longitude  \\\n",
       "0    Orient Heights T Stop - Bennington St at Sarat...  42.386781 -71.006098   \n",
       "1                         Maverick Square - Lewis Mall  42.368844 -71.039778   \n",
       "2    East Boston Neighborhood Health Center - 20 Ma...  42.369536 -71.039431   \n",
       "3                            Bennington St at Byron St  42.383533 -71.016191   \n",
       "4                          Boston East - 126 Border St  42.373312 -71.041020   \n",
       "..                                                 ...        ...        ...   \n",
       "406                        Boylston St at Fairfield St  42.348804 -71.082369   \n",
       "407                                     1200 Beacon St  42.344149 -71.114674   \n",
       "408                          Newbury St at Hereford St  42.348717 -71.085954   \n",
       "409                        Boylston St at Dartmouth St  42.350193 -71.077442   \n",
       "410        Copley Square - Dartmouth St at Boylston St  42.349928 -71.077392   \n",
       "\n",
       "     Number of Bikes                        Station ID  Number of Restaurants  \\\n",
       "0                 19  553ed0300d38108b4f21a6bafa3db70c                     39   \n",
       "1                 33  93542dcbf21f5411569adb92cd7cc199                     60   \n",
       "2                 16  d9c7ef5dbda4ed944d1bf51fe540acb6                     60   \n",
       "3                 15  0568389e659e679fbe29a5ac12cd49c0                     52   \n",
       "4                 15  47b79abc28a54d0e4689b1096ceb8466                     60   \n",
       "..               ...                               ...                    ...   \n",
       "406               19  3849bdf753a318d6a9b7d7a1cb62c186                     63   \n",
       "407               15  a5276fd53136b5c1eeb4d7aa5db405a4                     63   \n",
       "408               22  832fc4a60379cdc7824acb0c1dbf5f6c                     66   \n",
       "409               19  cd299318baee6b2600b5e9f047a558ab                     61   \n",
       "410               31  9930aaf1ad9f4716ff669b09a5c4684f                     61   \n",
       "\n",
       "     Number of Rentals  Average Restaurant Rating  Average Rental Rating  \n",
       "0                    5                   4.090909               2.000000  \n",
       "1                   16                   4.035714               2.031250  \n",
       "2                   16                   4.035714               2.031250  \n",
       "3                    7                   4.192308               2.285714  \n",
       "4                    9                   4.033333               2.055556  \n",
       "..                 ...                        ...                    ...  \n",
       "406                 18                   4.058824               2.027778  \n",
       "407                  8                   4.138889               2.000000  \n",
       "408                 18                   4.000000               2.027778  \n",
       "409                 18                   4.138889               2.111111  \n",
       "410                 18                   4.166667               2.111111  \n",
       "\n",
       "[411 rows x 9 columns]"
      ]
     },
     "execution_count": 2,
     "metadata": {},
     "output_type": "execute_result"
    }
   ],
   "source": [
    "df = pd.read_csv('../data/stations_model.csv')\n",
    "df"
   ]
  },
  {
   "cell_type": "markdown",
   "id": "ece6fef0",
   "metadata": {},
   "source": [
    "### Data Cleaning"
   ]
  },
  {
   "cell_type": "code",
   "execution_count": 3,
   "id": "28d71a47",
   "metadata": {},
   "outputs": [],
   "source": [
    "# Removing unnecessary columns: \n",
    "df = df.drop(columns=['Station Name', 'Latitude', 'Longitude', 'Station ID'])\n",
    "\n",
    "# Renaming columns so they're easier to understand\n",
    "df.rename(columns = {'Number of Bikes': 'Bikes',\n",
    "                             'Number of Restaurants': 'Restaurants',\n",
    "                             'Number of Rentals': 'Rentals',\n",
    "                             'Average Restaurant Rating': 'Restaurant_Rating',\n",
    "                             'Average Rental Rating': 'Rental_Rating',\n",
    "                            }, inplace=True)"
   ]
  },
  {
   "cell_type": "code",
   "execution_count": 10,
   "id": "b73d292d",
   "metadata": {},
   "outputs": [
    {
     "name": "stdout",
     "output_type": "stream",
     "text": [
      "<class 'pandas.core.frame.DataFrame'>\n",
      "RangeIndex: 411 entries, 0 to 410\n",
      "Data columns (total 5 columns):\n",
      " #   Column             Non-Null Count  Dtype  \n",
      "---  ------             --------------  -----  \n",
      " 0   Bikes              411 non-null    int64  \n",
      " 1   Restaurants        411 non-null    int64  \n",
      " 2   Rentals            411 non-null    int64  \n",
      " 3   Restaurant_Rating  411 non-null    float64\n",
      " 4   Rental_Rating      411 non-null    float64\n",
      "dtypes: float64(2), int64(3)\n",
      "memory usage: 16.2 KB\n"
     ]
    }
   ],
   "source": [
    "df.info()"
   ]
  },
  {
   "cell_type": "code",
   "execution_count": 5,
   "id": "98f13242",
   "metadata": {},
   "outputs": [
    {
     "data": {
      "text/html": [
       "<div>\n",
       "<style scoped>\n",
       "    .dataframe tbody tr th:only-of-type {\n",
       "        vertical-align: middle;\n",
       "    }\n",
       "\n",
       "    .dataframe tbody tr th {\n",
       "        vertical-align: top;\n",
       "    }\n",
       "\n",
       "    .dataframe thead th {\n",
       "        text-align: right;\n",
       "    }\n",
       "</style>\n",
       "<table border=\"1\" class=\"dataframe\">\n",
       "  <thead>\n",
       "    <tr style=\"text-align: right;\">\n",
       "      <th></th>\n",
       "      <th>Bikes</th>\n",
       "      <th>Restaurants</th>\n",
       "      <th>Rentals</th>\n",
       "      <th>Restaurant_Rating</th>\n",
       "      <th>Rental_Rating</th>\n",
       "    </tr>\n",
       "  </thead>\n",
       "  <tbody>\n",
       "    <tr>\n",
       "      <th>count</th>\n",
       "      <td>411.000000</td>\n",
       "      <td>411.000000</td>\n",
       "      <td>411.000000</td>\n",
       "      <td>411.000000</td>\n",
       "      <td>411.000000</td>\n",
       "    </tr>\n",
       "    <tr>\n",
       "      <th>mean</th>\n",
       "      <td>17.391727</td>\n",
       "      <td>55.839416</td>\n",
       "      <td>7.635036</td>\n",
       "      <td>4.002001</td>\n",
       "      <td>2.037094</td>\n",
       "    </tr>\n",
       "    <tr>\n",
       "      <th>std</th>\n",
       "      <td>4.808004</td>\n",
       "      <td>9.475952</td>\n",
       "      <td>5.452960</td>\n",
       "      <td>0.238239</td>\n",
       "      <td>0.127990</td>\n",
       "    </tr>\n",
       "    <tr>\n",
       "      <th>min</th>\n",
       "      <td>9.000000</td>\n",
       "      <td>18.000000</td>\n",
       "      <td>1.000000</td>\n",
       "      <td>2.500000</td>\n",
       "      <td>1.500000</td>\n",
       "    </tr>\n",
       "    <tr>\n",
       "      <th>25%</th>\n",
       "      <td>15.000000</td>\n",
       "      <td>52.000000</td>\n",
       "      <td>3.000000</td>\n",
       "      <td>3.925824</td>\n",
       "      <td>2.000000</td>\n",
       "    </tr>\n",
       "    <tr>\n",
       "      <th>50%</th>\n",
       "      <td>17.000000</td>\n",
       "      <td>59.000000</td>\n",
       "      <td>6.000000</td>\n",
       "      <td>4.062500</td>\n",
       "      <td>2.000000</td>\n",
       "    </tr>\n",
       "    <tr>\n",
       "      <th>75%</th>\n",
       "      <td>19.000000</td>\n",
       "      <td>62.000000</td>\n",
       "      <td>11.000000</td>\n",
       "      <td>4.147059</td>\n",
       "      <td>2.047727</td>\n",
       "    </tr>\n",
       "    <tr>\n",
       "      <th>max</th>\n",
       "      <td>53.000000</td>\n",
       "      <td>68.000000</td>\n",
       "      <td>23.000000</td>\n",
       "      <td>4.500000</td>\n",
       "      <td>3.000000</td>\n",
       "    </tr>\n",
       "  </tbody>\n",
       "</table>\n",
       "</div>"
      ],
      "text/plain": [
       "            Bikes  Restaurants     Rentals  Restaurant_Rating  Rental_Rating\n",
       "count  411.000000   411.000000  411.000000         411.000000     411.000000\n",
       "mean    17.391727    55.839416    7.635036           4.002001       2.037094\n",
       "std      4.808004     9.475952    5.452960           0.238239       0.127990\n",
       "min      9.000000    18.000000    1.000000           2.500000       1.500000\n",
       "25%     15.000000    52.000000    3.000000           3.925824       2.000000\n",
       "50%     17.000000    59.000000    6.000000           4.062500       2.000000\n",
       "75%     19.000000    62.000000   11.000000           4.147059       2.047727\n",
       "max     53.000000    68.000000   23.000000           4.500000       3.000000"
      ]
     },
     "execution_count": 5,
     "metadata": {},
     "output_type": "execute_result"
    }
   ],
   "source": [
    "df.describe()"
   ]
  },
  {
   "cell_type": "markdown",
   "id": "17f8a85b",
   "metadata": {},
   "source": [
    "## Analyzing and Visualizing the Data"
   ]
  },
  {
   "cell_type": "code",
   "execution_count": 12,
   "id": "43e56ab0",
   "metadata": {},
   "outputs": [
    {
     "data": {
      "text/plain": [
       "<matplotlib.collections.PathCollection at 0x13d6c0910>"
      ]
     },
     "execution_count": 12,
     "metadata": {},
     "output_type": "execute_result"
    },
    {
     "data": {
      "text/plain": [
       "Text(0.5, 0, 'Bikes')"
      ]
     },
     "execution_count": 12,
     "metadata": {},
     "output_type": "execute_result"
    },
    {
     "data": {
      "text/plain": [
       "Text(0, 0.5, 'Rentals')"
      ]
     },
     "execution_count": 12,
     "metadata": {},
     "output_type": "execute_result"
    },
    {
     "data": {
      "image/png": "[encoded data removed]",
      "text/plain": [
       "<Figure size 640x480 with 1 Axes>"
      ]
     },
     "metadata": {},
     "output_type": "display_data"
    }
   ],
   "source": [
    "plt.scatter(df['Bikes'], df['Rentals'], color='orange')\n",
    "plt.title = 'Scatter Plot between Bikes and Rentals'\n",
    "plt.xlabel('Bikes')\n",
    "plt.ylabel('Rentals')"
   ]
  },
  {
   "cell_type": "code",
   "execution_count": 13,
   "id": "baa9dcd2",
   "metadata": {},
   "outputs": [
    {
     "data": {
      "text/plain": [
       "<seaborn.axisgrid.FacetGrid at 0x13d69e510>"
      ]
     },
     "execution_count": 13,
     "metadata": {},
     "output_type": "execute_result"
    },
    {
     "data": {
      "image/png": "[encoded data removed]",
      "text/plain": [
       "<Figure size 627.361x500 with 1 Axes>"
      ]
     },
     "metadata": {},
     "output_type": "display_data"
    }
   ],
   "source": [
    "sns.set_style('darkgrid')\n",
    "\n",
    "sns.relplot(\n",
    "    data=df,\n",
    "    x='Restaurants',\n",
    "    y='Bikes',\n",
    "#     hue='smoker',\n",
    "#     style='smoker',\n",
    "    size='Restaurant_Rating',\n",
    "    color='seagreen'\n",
    ")"
   ]
  },
  {
   "cell_type": "code",
   "execution_count": 39,
   "id": "f258fba6",
   "metadata": {},
   "outputs": [
    {
     "data": {
      "text/html": [
       "<div>\n",
       "<style scoped>\n",
       "    .dataframe tbody tr th:only-of-type {\n",
       "        vertical-align: middle;\n",
       "    }\n",
       "\n",
       "    .dataframe tbody tr th {\n",
       "        vertical-align: top;\n",
       "    }\n",
       "\n",
       "    .dataframe thead th {\n",
       "        text-align: right;\n",
       "    }\n",
       "</style>\n",
       "<table border=\"1\" class=\"dataframe\">\n",
       "  <thead>\n",
       "    <tr style=\"text-align: right;\">\n",
       "      <th></th>\n",
       "      <th>Bikes</th>\n",
       "      <th>Restaurants</th>\n",
       "      <th>Rentals</th>\n",
       "    </tr>\n",
       "  </thead>\n",
       "  <tbody>\n",
       "    <tr>\n",
       "      <th>0</th>\n",
       "      <td>19</td>\n",
       "      <td>39</td>\n",
       "      <td>5</td>\n",
       "    </tr>\n",
       "    <tr>\n",
       "      <th>1</th>\n",
       "      <td>33</td>\n",
       "      <td>60</td>\n",
       "      <td>16</td>\n",
       "    </tr>\n",
       "    <tr>\n",
       "      <th>2</th>\n",
       "      <td>16</td>\n",
       "      <td>60</td>\n",
       "      <td>16</td>\n",
       "    </tr>\n",
       "    <tr>\n",
       "      <th>3</th>\n",
       "      <td>15</td>\n",
       "      <td>52</td>\n",
       "      <td>7</td>\n",
       "    </tr>\n",
       "    <tr>\n",
       "      <th>4</th>\n",
       "      <td>15</td>\n",
       "      <td>60</td>\n",
       "      <td>9</td>\n",
       "    </tr>\n",
       "    <tr>\n",
       "      <th>...</th>\n",
       "      <td>...</td>\n",
       "      <td>...</td>\n",
       "      <td>...</td>\n",
       "    </tr>\n",
       "    <tr>\n",
       "      <th>406</th>\n",
       "      <td>19</td>\n",
       "      <td>63</td>\n",
       "      <td>18</td>\n",
       "    </tr>\n",
       "    <tr>\n",
       "      <th>407</th>\n",
       "      <td>15</td>\n",
       "      <td>63</td>\n",
       "      <td>8</td>\n",
       "    </tr>\n",
       "    <tr>\n",
       "      <th>408</th>\n",
       "      <td>22</td>\n",
       "      <td>66</td>\n",
       "      <td>18</td>\n",
       "    </tr>\n",
       "    <tr>\n",
       "      <th>409</th>\n",
       "      <td>19</td>\n",
       "      <td>61</td>\n",
       "      <td>18</td>\n",
       "    </tr>\n",
       "    <tr>\n",
       "      <th>410</th>\n",
       "      <td>31</td>\n",
       "      <td>61</td>\n",
       "      <td>18</td>\n",
       "    </tr>\n",
       "  </tbody>\n",
       "</table>\n",
       "<p>411 rows × 3 columns</p>\n",
       "</div>"
      ],
      "text/plain": [
       "     Bikes  Restaurants  Rentals\n",
       "0       19           39        5\n",
       "1       33           60       16\n",
       "2       16           60       16\n",
       "3       15           52        7\n",
       "4       15           60        9\n",
       "..     ...          ...      ...\n",
       "406     19           63       18\n",
       "407     15           63        8\n",
       "408     22           66       18\n",
       "409     19           61       18\n",
       "410     31           61       18\n",
       "\n",
       "[411 rows x 3 columns]"
      ]
     },
     "execution_count": 39,
     "metadata": {},
     "output_type": "execute_result"
    }
   ],
   "source": []
  },
  {
   "cell_type": "code",
   "execution_count": 40,
   "id": "15ab111c",
   "metadata": {},
   "outputs": [
    {
     "ename": "SyntaxError",
     "evalue": "invalid syntax (2565691035.py, line 2)",
     "output_type": "error",
     "traceback": [
      "\u001b[0;36m  Cell \u001b[0;32mIn[40], line 2\u001b[0;36m\u001b[0m\n\u001b[0;31m    df[['Bikes', 'Restaurants','Rentals']]sns.boxplot(data=, color='coral', orient='v')\u001b[0m\n\u001b[0m                                          ^\u001b[0m\n\u001b[0;31mSyntaxError\u001b[0m\u001b[0;31m:\u001b[0m invalid syntax\n"
     ]
    }
   ],
   "source": [
    "plt.figure(figsize=(12,12))\n",
    "sns.boxplot(data=, \n",
    "            color='coral', orient='v')\n",
    "plt.savefig('../images/pre-cleaning-boxplot-1.png', bbox_inches='tight')"
   ]
  },
  {
   "cell_type": "code",
   "execution_count": 34,
   "id": "a24066ae",
   "metadata": {},
   "outputs": [
    {
     "data": {
      "image/png": "[encoded data removed]",
      "text/plain": [
       "<Figure size 1000x1000 with 2 Axes>"
      ]
     },
     "metadata": {},
     "output_type": "display_data"
    }
   ],
   "source": [
    "fig, (ax1, ax2) = plt.subplots(figsize=(10,10), nrows=1, ncols=2)\n",
    "fig = sns.boxplot(df[['Rental_Rating']], color='coral', orient='v', ax=ax1)\n",
    "\n",
    "fig = sns.boxplot(df[['Restaurant_Rating']], color='coral', orient='v', ax=ax2)\n",
    "\n",
    "\n",
    "plt.savefig('../images/pre-cleaning-boxplot-2.png', bbox_inches='tight')"
   ]
  },
  {
   "cell_type": "code",
   "execution_count": 15,
   "id": "eca302c2",
   "metadata": {},
   "outputs": [
    {
     "data": {
      "text/plain": [
       "<Figure size 640x480 with 0 Axes>"
      ]
     },
     "execution_count": 15,
     "metadata": {},
     "output_type": "execute_result"
    },
    {
     "data": {
      "image/png": "[encoded data removed]",
      "text/plain": [
       "<Figure size 640x480 with 1 Axes>"
      ]
     },
     "metadata": {},
     "output_type": "display_data"
    }
   ],
   "source": [
    "plt.figure()\n",
    "plt.title=\"Bikes\"\n",
    "ax = sns.boxplot(x=df[\"Bikes\"], color='purple')"
   ]
  },
  {
   "cell_type": "code",
   "execution_count": 16,
   "id": "1027a030",
   "metadata": {},
   "outputs": [
    {
     "data": {
      "text/plain": [
       "<Figure size 640x480 with 0 Axes>"
      ]
     },
     "execution_count": 16,
     "metadata": {},
     "output_type": "execute_result"
    },
    {
     "ename": "KeyError",
     "evalue": "'Rating'",
     "output_type": "error",
     "traceback": [
      "\u001b[0;31m---------------------------------------------------------------------------\u001b[0m",
      "\u001b[0;31mKeyError\u001b[0m                                  Traceback (most recent call last)",
      "File \u001b[0;32m~/miniconda3/envs/test_env/lib/python3.11/site-packages/pandas/core/indexes/base.py:3802\u001b[0m, in \u001b[0;36mIndex.get_loc\u001b[0;34m(self, key, method, tolerance)\u001b[0m\n\u001b[1;32m   3801\u001b[0m \u001b[38;5;28;01mtry\u001b[39;00m:\n\u001b[0;32m-> 3802\u001b[0m     \u001b[38;5;28;01mreturn\u001b[39;00m \u001b[38;5;28mself\u001b[39m\u001b[38;5;241m.\u001b[39m_engine\u001b[38;5;241m.\u001b[39mget_loc(casted_key)\n\u001b[1;32m   3803\u001b[0m \u001b[38;5;28;01mexcept\u001b[39;00m \u001b[38;5;167;01mKeyError\u001b[39;00m \u001b[38;5;28;01mas\u001b[39;00m err:\n",
      "File \u001b[0;32m~/miniconda3/envs/test_env/lib/python3.11/site-packages/pandas/_libs/index.pyx:138\u001b[0m, in \u001b[0;36mpandas._libs.index.IndexEngine.get_loc\u001b[0;34m()\u001b[0m\n",
      "File \u001b[0;32m~/miniconda3/envs/test_env/lib/python3.11/site-packages/pandas/_libs/index.pyx:165\u001b[0m, in \u001b[0;36mpandas._libs.index.IndexEngine.get_loc\u001b[0;34m()\u001b[0m\n",
      "File \u001b[0;32mpandas/_libs/hashtable_class_helper.pxi:5745\u001b[0m, in \u001b[0;36mpandas._libs.hashtable.PyObjectHashTable.get_item\u001b[0;34m()\u001b[0m\n",
      "File \u001b[0;32mpandas/_libs/hashtable_class_helper.pxi:5753\u001b[0m, in \u001b[0;36mpandas._libs.hashtable.PyObjectHashTable.get_item\u001b[0;34m()\u001b[0m\n",
      "\u001b[0;31mKeyError\u001b[0m: 'Rating'",
      "\nThe above exception was the direct cause of the following exception:\n",
      "\u001b[0;31mKeyError\u001b[0m                                  Traceback (most recent call last)",
      "Cell \u001b[0;32mIn[16], line 3\u001b[0m\n\u001b[1;32m      1\u001b[0m plt\u001b[38;5;241m.\u001b[39mfigure()\n\u001b[1;32m      2\u001b[0m plt\u001b[38;5;241m.\u001b[39mtitle\u001b[38;5;241m=\u001b[39m\u001b[38;5;124m\"\u001b[39m\u001b[38;5;124mRating\u001b[39m\u001b[38;5;124m\"\u001b[39m\n\u001b[0;32m----> 3\u001b[0m ax \u001b[38;5;241m=\u001b[39m sns\u001b[38;5;241m.\u001b[39mboxplot(x\u001b[38;5;241m=\u001b[39mdf[\u001b[38;5;124m\"\u001b[39m\u001b[38;5;124mRating\u001b[39m\u001b[38;5;124m\"\u001b[39m], color\u001b[38;5;241m=\u001b[39m\u001b[38;5;124m'\u001b[39m\u001b[38;5;124morange\u001b[39m\u001b[38;5;124m'\u001b[39m)\n",
      "File \u001b[0;32m~/miniconda3/envs/test_env/lib/python3.11/site-packages/pandas/core/frame.py:3807\u001b[0m, in \u001b[0;36mDataFrame.__getitem__\u001b[0;34m(self, key)\u001b[0m\n\u001b[1;32m   3805\u001b[0m \u001b[38;5;28;01mif\u001b[39;00m \u001b[38;5;28mself\u001b[39m\u001b[38;5;241m.\u001b[39mcolumns\u001b[38;5;241m.\u001b[39mnlevels \u001b[38;5;241m>\u001b[39m \u001b[38;5;241m1\u001b[39m:\n\u001b[1;32m   3806\u001b[0m     \u001b[38;5;28;01mreturn\u001b[39;00m \u001b[38;5;28mself\u001b[39m\u001b[38;5;241m.\u001b[39m_getitem_multilevel(key)\n\u001b[0;32m-> 3807\u001b[0m indexer \u001b[38;5;241m=\u001b[39m \u001b[38;5;28mself\u001b[39m\u001b[38;5;241m.\u001b[39mcolumns\u001b[38;5;241m.\u001b[39mget_loc(key)\n\u001b[1;32m   3808\u001b[0m \u001b[38;5;28;01mif\u001b[39;00m is_integer(indexer):\n\u001b[1;32m   3809\u001b[0m     indexer \u001b[38;5;241m=\u001b[39m [indexer]\n",
      "File \u001b[0;32m~/miniconda3/envs/test_env/lib/python3.11/site-packages/pandas/core/indexes/base.py:3804\u001b[0m, in \u001b[0;36mIndex.get_loc\u001b[0;34m(self, key, method, tolerance)\u001b[0m\n\u001b[1;32m   3802\u001b[0m     \u001b[38;5;28;01mreturn\u001b[39;00m \u001b[38;5;28mself\u001b[39m\u001b[38;5;241m.\u001b[39m_engine\u001b[38;5;241m.\u001b[39mget_loc(casted_key)\n\u001b[1;32m   3803\u001b[0m \u001b[38;5;28;01mexcept\u001b[39;00m \u001b[38;5;167;01mKeyError\u001b[39;00m \u001b[38;5;28;01mas\u001b[39;00m err:\n\u001b[0;32m-> 3804\u001b[0m     \u001b[38;5;28;01mraise\u001b[39;00m \u001b[38;5;167;01mKeyError\u001b[39;00m(key) \u001b[38;5;28;01mfrom\u001b[39;00m \u001b[38;5;21;01merr\u001b[39;00m\n\u001b[1;32m   3805\u001b[0m \u001b[38;5;28;01mexcept\u001b[39;00m \u001b[38;5;167;01mTypeError\u001b[39;00m:\n\u001b[1;32m   3806\u001b[0m     \u001b[38;5;66;03m# If we have a listlike key, _check_indexing_error will raise\u001b[39;00m\n\u001b[1;32m   3807\u001b[0m     \u001b[38;5;66;03m#  InvalidIndexError. Otherwise we fall through and re-raise\u001b[39;00m\n\u001b[1;32m   3808\u001b[0m     \u001b[38;5;66;03m#  the TypeError.\u001b[39;00m\n\u001b[1;32m   3809\u001b[0m     \u001b[38;5;28mself\u001b[39m\u001b[38;5;241m.\u001b[39m_check_indexing_error(key)\n",
      "\u001b[0;31mKeyError\u001b[0m: 'Rating'"
     ]
    },
    {
     "data": {
      "text/plain": [
       "<Figure size 640x480 with 0 Axes>"
      ]
     },
     "metadata": {},
     "output_type": "display_data"
    }
   ],
   "source": [
    "plt.figure()\n",
    "plt.title=\"Rating\"\n",
    "ax = sns.boxplot(x=df[\"Rating\"], color='orange')"
   ]
  },
  {
   "cell_type": "code",
   "execution_count": null,
   "id": "a3071412",
   "metadata": {},
   "outputs": [],
   "source": [
    "plt.figure()\n",
    "plt.title=\"Rentals\"\n",
    "ax = sns.boxplot(x=df[\"Rentals\"], color='seagreen')"
   ]
  },
  {
   "cell_type": "code",
   "execution_count": null,
   "id": "380c145a",
   "metadata": {},
   "outputs": [],
   "source": [
    "plt.figure()\n",
    "plt.title=\"Restaurants\"\n",
    "ax = sns.boxplot(x=df[\"Restaurants\"], color='green')"
   ]
  },
  {
   "cell_type": "code",
   "execution_count": null,
   "id": "9913b3bb",
   "metadata": {},
   "outputs": [],
   "source": [
    "plt.scatter(df['Bikes'], \n",
    "            df['Restaurants'],\n",
    "            marker='o',\n",
    "            color='seagreen',\n",
    "            label='Restaurants')\n",
    "\n",
    "plt.scatter(df['Bikes'], \n",
    "            df['Rentals'],\n",
    "            marker='o',\n",
    "            color='orange',\n",
    "            label='Rentals')\n",
    "\n",
    "plt.legend(loc = 'upper right')\n",
    "plt.title = ('Distribution of Places of Interests vs Bikes')"
   ]
  },
  {
   "cell_type": "code",
   "execution_count": null,
   "id": "592982b2",
   "metadata": {},
   "outputs": [],
   "source": [
    "\n",
    "corr_matrix = df[['Bikes', \n",
    "                  'Rentals', \n",
    "                  'Restaurants', \n",
    "                  'Rating']].corr()\n",
    "sns.heatmap(corr_matrix, annot=True, cmap='seismic')\n",
    "plt.title = ('Cross correlation across the columns')\n",
    "plt.show()\n",
    "plt.savefig('../images/pre-cleaning-corr.png', bbox_inches='tight')"
   ]
  },
  {
   "cell_type": "markdown",
   "id": "3a6d7785",
   "metadata": {},
   "source": [
    "### Observations:\n",
    "\n",
    "1. There are several outliers in the data which will need to be handled before modelling.\n",
    "2. `Bikes` has no clear correlation with the other columns.\n",
    "3. The strongest correlation is with `Rentals`. \n",
    "4. Strong correlation between Average Restaurant Rating and the Number of Restaurants.\n",
    "5. The next strongest pair correlation is between the Number of Rentals and the Number of Restaurants.\n",
    "6. Generally stronger correlations between the independent variables. "
   ]
  },
  {
   "cell_type": "markdown",
   "id": "c8154780",
   "metadata": {},
   "source": [
    "#### Preparing the data for modelling: removing outliers."
   ]
  },
  {
   "cell_type": "code",
   "execution_count": null,
   "id": "0512ecfe",
   "metadata": {},
   "outputs": [],
   "source": [
    "filter = df['Bikes'] >= 40\n",
    "filtered_rows = df[filter].index\n",
    "df.loc[filtered_rows, 'Bikes'] = 40\n",
    "\n",
    "filter = df['Rating'] <=3\n",
    "filtered_rows = df[filter].index\n",
    "df.loc[filtered_rows, 'Rating'] = 3\n",
    "\n",
    "filter = df['Rating'] <=3\n",
    "filtered_rows = df[filter].index\n",
    "df.loc[filtered_rows, 'Rating'] = 3\n",
    "\n",
    "filter = df['Restaurants'] <=20\n",
    "filtered_rows = df[filter].index\n",
    "df.loc[filtered_rows, 'Restaurants'] = 20"
   ]
  },
  {
   "cell_type": "code",
   "execution_count": null,
   "id": "fae00db0",
   "metadata": {},
   "outputs": [],
   "source": [
    "# Review boxplots and correlation matrix once more"
   ]
  },
  {
   "cell_type": "code",
   "execution_count": null,
   "id": "2aaa34be",
   "metadata": {},
   "outputs": [],
   "source": [
    "plt.figure(figsize=(12,12))\n",
    "sns.boxplot(df, color='orange', orient='v')\n",
    "plt.savefig('../images/post-cleaning-boxplot.png', bbox_inches='tight')"
   ]
  },
  {
   "cell_type": "code",
   "execution_count": null,
   "id": "0218a8aa",
   "metadata": {},
   "outputs": [],
   "source": [
    "corr_matrix = df[['Bikes', \n",
    "                  'Rentals', \n",
    "                  'Restaurants', \n",
    "                  'Rating']].corr()\n",
    "sns.heatmap(corr_matrix, annot=True, cmap='seismic')\n",
    "plt.title = ('Cross correlation across the columns')\n",
    "plt.show()\n",
    "plt.savefig('../images/post-cleaning-corr.png', bbox_inches='tight')"
   ]
  },
  {
   "cell_type": "markdown",
   "id": "eacf524d",
   "metadata": {},
   "source": [
    "### Final observations before model building: \n",
    "\n",
    "Removing the outliers marginally increased the correlation between `Bikes` and the other variables. The strong correlation between `Rating` and `Restaurant` might mean that we only need one of the two variables for a model, and we will choose `Rating` because it has a higher correlation with `Bikes`. We will confirm this decision during Model Building."
   ]
  },
  {
   "cell_type": "markdown",
   "id": "1ffff804",
   "metadata": {},
   "source": [
    "# Model Building\n",
    "\n",
    "Choose a simple multivariate regression model. The y, target value is `Bikes` and the X values are the other 3 columns: `Rentals`, `Rating`, `Restaurants`.\n",
    "\n",
    "We will use Forward Selection as there are only 3 variables. \n",
    "\n",
    "Following the steps explained in the Model Evaluation lecture, we will test out a single-variable model with each of the 3 variables. The model with the highest adjusted R2 value will inidicate the most siginificant variable. \n",
    "We will then continue until we reach..."
   ]
  },
  {
   "cell_type": "code",
   "execution_count": null,
   "id": "d1a7f6df",
   "metadata": {},
   "outputs": [],
   "source": [
    "import statsmodels.api as sm\n",
    "import numpy as np"
   ]
  },
  {
   "cell_type": "markdown",
   "id": "cb3e11ed",
   "metadata": {},
   "source": [
    "### Forward Selection Step 1: 3 models for each of the 3 indepedent variables"
   ]
  },
  {
   "cell_type": "code",
   "execution_count": null,
   "id": "c7105b91",
   "metadata": {},
   "outputs": [],
   "source": [
    "y = df['Bikes']\n",
    "X = [sm.add_constant(df[column]) for column in df.columns[1:]] # adding a constant value to all the X columns"
   ]
  },
  {
   "cell_type": "code",
   "execution_count": null,
   "id": "3bd184a0",
   "metadata": {},
   "outputs": [],
   "source": [
    "Models = [sm.OLS(y,x) for x in X] #list of models\n",
    "results = [model.fit() for model in Models] #list of results\n",
    "\n",
    "for result in results:\n",
    "    print(result.summary())\n",
    "    print('==============================================================================')\n",
    "    print(' ')"
   ]
  },
  {
   "cell_type": "markdown",
   "id": "90df4689",
   "metadata": {},
   "source": [
    "### Interpretation of Results\n",
    "\n",
    "The Rental model has the highest adj.R2 value, which fits with the data we noticed in the correlation matrix and other visualizations. It also has a p-factor of almost 0.00 which at <0.05 shows strong statistic significance. \n",
    "\n",
    "The highest adj-R2 value is still very low - less than 1%, indicating that this single-variable model explains less than 1% of the 'Bikes' distribution. \n",
    "\n",
    "The Rating model has not only the worst R2 value, but also a P-factor of greater than 0.05"
   ]
  },
  {
   "cell_type": "markdown",
   "id": "18cc949c",
   "metadata": {},
   "source": [
    "### Forward Selection Step 2: 2 models: (Rental+Ratings) and (Rental+Restaurants)"
   ]
  },
  {
   "cell_type": "code",
   "execution_count": null,
   "id": "37b7a9df",
   "metadata": {},
   "outputs": [],
   "source": [
    "X = [sm.add_constant(df[['Restaurants', 'Rentals']]), \n",
    "     sm.add_constant(df[['Rating', 'Rentals']])]"
   ]
  },
  {
   "cell_type": "code",
   "execution_count": null,
   "id": "11057f8c",
   "metadata": {},
   "outputs": [],
   "source": [
    "models = [sm.OLS(y,x) for x in X] #list of models\n",
    "results = [model.fit() for model in models] #list of results\n",
    "\n",
    "for result in results:\n",
    "    print(result.summary())\n",
    "    print('==============================================================================')\n",
    "    print(' ')"
   ]
  },
  {
   "cell_type": "markdown",
   "id": "e2d9ee2f",
   "metadata": {},
   "source": [
    "### Interpretation of Results\n",
    "\n",
    "\n",
    "The combination of `Rating` and `Rentals` give a slightly higher adjusted-R value than the combination with `Restaurants` though not by much. Again, this matches the information we observed during Visualization.\n",
    "\n",
    "In this model, the P-value of `Rating` has increased to 0.113, and it's previously positive coefficient is now negative, indicating a small negative correlation with `Bikes`."
   ]
  },
  {
   "cell_type": "markdown",
   "id": "7d90db0e",
   "metadata": {},
   "source": [
    "We have enough information to select the best fit model, but for completeness, we will do the model for all 3 variables."
   ]
  },
  {
   "cell_type": "markdown",
   "id": "02a96ae9",
   "metadata": {},
   "source": [
    "### Forward Selection Step 3 (optional): 3 models: (Rental+Ratings+Restaurants)"
   ]
  },
  {
   "cell_type": "code",
   "execution_count": null,
   "id": "5b4fc4b0",
   "metadata": {},
   "outputs": [],
   "source": [
    "X = df[['Restaurants', 'Rating', 'Rentals']]\n",
    "X = sm.add_constant(X)\n",
    "model = sm.OLS(y,X)\n",
    "\n",
    "results_3var = model.fit()\n",
    "print(results_3var.summary())"
   ]
  },
  {
   "cell_type": "markdown",
   "id": "0c7b40a1",
   "metadata": {},
   "source": [
    "**Interpretation of Results**: The R^2 value did not improve. The P-value of Rating went up, showing greater statistical insignificance in this model."
   ]
  },
  {
   "cell_type": "code",
   "execution_count": null,
   "id": "5fd54443",
   "metadata": {},
   "outputs": [],
   "source": [
    "# Repeating the optimum (Rating and Rentals) model below for comparing.\n",
    "\n",
    "X = df[['Rating', 'Rentals']]\n",
    "X = sm.add_constant(X) # adding a constant\n",
    "model = sm.OLS(y,X)\n",
    "\n",
    "results = model.fit()\n",
    "print(results.summary())"
   ]
  },
  {
   "cell_type": "markdown",
   "id": "51a6a87f",
   "metadata": {},
   "source": [
    "## Analysis of Optimum Model:\n",
    "### Visualization\n",
    "\n",
    "This scatter plot regression diagram compares the predictions from the fitted model to the real 'Bikes' data, based on each independent variable including the constant 1. We can see from the spread of data points that the Bikes data has outliers outside the spread of the fitted data. Further data cleaning might improve the results, but it's possible that these data points are incorrectly identified as outliers and removing them will alter the distribution too severely for proper modelling. More attempts at different models and more data will be required before making that decision."
   ]
  },
  {
   "cell_type": "code",
   "execution_count": null,
   "id": "5323abc9",
   "metadata": {},
   "outputs": [],
   "source": [
    "fig, (ax1, ax2, ax3) = plt.subplots(figsize=(10,10), nrows=3, ncols=1)\n",
    "fig = sm.graphics.plot_fit(results, 1, ax=ax1)\n",
    "ax1.set_ylabel(\"Bikes\")\n",
    "ax1.set_title(\"Optimum Regression model (Rental and Ratings)\")\n",
    "\n",
    "fig = sm.graphics.plot_fit(results, 2, ax=ax2)\n",
    "ax2.set_ylabel(\"Bikes\")\n",
    "ax2.set_title(\"All variable Regression model\")\n",
    "\n",
    "fig = sm.graphics.plot_fit(results, 0, ax=ax3)\n",
    "ax2.set_ylabel(\"Bikes\")\n",
    "ax2.set_title(\"All variable Regression model\")\n",
    "\n",
    "\n",
    "plt.tight_layout()\n",
    "plt.savefig('../images/model_regression_result.png', bbox_inches='tight')"
   ]
  },
  {
   "cell_type": "markdown",
   "id": "ccfcf29c",
   "metadata": {},
   "source": [
    "**More Observations**: There appears to be a divide between the 'Bikes' data points at 15-20, and another boundary line above 30. These are potential boundary lines for categorization if we plan to try classification models."
   ]
  },
  {
   "cell_type": "code",
   "execution_count": null,
   "id": "e6e03882",
   "metadata": {},
   "outputs": [],
   "source": [
    "fig = sm.graphics.plot_partregress_grid(results);\n",
    "fig.tight_layout(pad=1.0);"
   ]
  },
  {
   "cell_type": "markdown",
   "id": "97dcba18",
   "metadata": {},
   "source": [
    "### Recommendations:\n",
    "\n",
    "The model's performance is not adequate. Recommend testing out a non-linear model or a generalized linear model. Or getting more data for training."
   ]
  },
  {
   "cell_type": "markdown",
   "id": "4b3841c6",
   "metadata": {},
   "source": [
    "## Turn the Regression Model into a Classification Model"
   ]
  },
  {
   "cell_type": "markdown",
   "id": "d45a8e91",
   "metadata": {},
   "source": [
    "1. **Categorize** the output/dependent variable. The 'Bikes' will be categorized into 3 values. Taking into account its max/min values and with the awareness that its distribution is skewed to the right, the following cateogories are proposed, based on the models above:\n",
    "\n",
    "    - Large number of bikes: >30\n",
    "    - Medium number of bikes: 15-30\n",
    "    - Small: <15\n",
    "    \n",
    "2. The original (pre-cleaning) dataframe will be **updated** accordingly using a simple sorting formula, and the `Bikes` column dtype changed to `category`.\n",
    "        \n",
    "3. **Cleaning, visualization and analysis** of the new dataframe. The use of `seaborn`'s rich library of categorical graphics to analyze the new relationships between the variables.\n",
    "\n",
    "4. Use `statsmodel` `logit` (or any other appropriate model's logistic regression tool) to **fit the model**. Use Backward Selection as the model optimization strategy.\n",
    "\n",
    "5. **Analyze** the results, visualize them and make improvements and/or recommendations."
   ]
  },
  {
   "cell_type": "code",
   "execution_count": null,
   "id": "95247e18",
   "metadata": {},
   "outputs": [],
   "source": []
  }
 ],
 "metadata": {
  "kernelspec": {
   "display_name": "Python 3 (ipykernel)",
   "language": "python",
   "name": "python3"
  },
  "language_info": {
   "codemirror_mode": {
    "name": "ipython",
    "version": 3
   },
   "file_extension": ".py",
   "mimetype": "text/x-python",
   "name": "python",
   "nbconvert_exporter": "python",
   "pygments_lexer": "ipython3",
   "version": "3.11.2"
  }
 },
 "nbformat": 4,
 "nbformat_minor": 5
}
